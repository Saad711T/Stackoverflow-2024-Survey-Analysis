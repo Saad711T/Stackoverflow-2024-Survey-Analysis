{
 "cells": [
  {
   "cell_type": "markdown",
   "id": "a6ef7f03",
   "metadata": {},
   "source": [
    "# Stackoverflow Developer Survey 2024 Analysis"
   ]
  },
  {
   "cell_type": "markdown",
   "id": "30e883f4",
   "metadata": {},
   "source": [
    "### Introduction"
   ]
  },
  {
   "cell_type": "markdown",
   "id": "5bad30bc",
   "metadata": {},
   "source": [
    "This project aims to analyze the 2024 Stack Overflow Developer Survey data. \n",
    "We will explore:\n",
    "1. The most popular programming languages among developers.\n",
    "2. General insights about developers.\n",
    "\n",
    "and I will be focused on top 10 programming languages used."
   ]
  },
  {
   "cell_type": "markdown",
   "id": "0947e699",
   "metadata": {},
   "source": [
    "## Data Understanding"
   ]
  },
  {
   "cell_type": "markdown",
   "id": "bfee1d8d",
   "metadata": {},
   "source": [
    "#### Libraries :"
   ]
  },
  {
   "cell_type": "code",
   "execution_count": 2,
   "id": "df418bf3",
   "metadata": {},
   "outputs": [],
   "source": [
    "import pandas as pd\n",
    "import matplotlib.pyplot as plt\n",
    "import seaborn as sns\n",
    "import sys\n",
    "import os"
   ]
  },
  {
   "cell_type": "code",
   "execution_count": 4,
   "id": "9afd9eba",
   "metadata": {},
   "outputs": [
    {
     "data": {
      "text/html": [
       "<div>\n",
       "<style scoped>\n",
       "    .dataframe tbody tr th:only-of-type {\n",
       "        vertical-align: middle;\n",
       "    }\n",
       "\n",
       "    .dataframe tbody tr th {\n",
       "        vertical-align: top;\n",
       "    }\n",
       "\n",
       "    .dataframe thead th {\n",
       "        text-align: right;\n",
       "    }\n",
       "</style>\n",
       "<table border=\"1\" class=\"dataframe\">\n",
       "  <thead>\n",
       "    <tr style=\"text-align: right;\">\n",
       "      <th></th>\n",
       "      <th>ResponseId</th>\n",
       "      <th>MainBranch</th>\n",
       "      <th>Age</th>\n",
       "      <th>Employment</th>\n",
       "      <th>RemoteWork</th>\n",
       "      <th>Check</th>\n",
       "      <th>CodingActivities</th>\n",
       "      <th>EdLevel</th>\n",
       "      <th>LearnCode</th>\n",
       "      <th>LearnCodeOnline</th>\n",
       "      <th>...</th>\n",
       "      <th>JobSatPoints_6</th>\n",
       "      <th>JobSatPoints_7</th>\n",
       "      <th>JobSatPoints_8</th>\n",
       "      <th>JobSatPoints_9</th>\n",
       "      <th>JobSatPoints_10</th>\n",
       "      <th>JobSatPoints_11</th>\n",
       "      <th>SurveyLength</th>\n",
       "      <th>SurveyEase</th>\n",
       "      <th>ConvertedCompYearly</th>\n",
       "      <th>JobSat</th>\n",
       "    </tr>\n",
       "  </thead>\n",
       "  <tbody>\n",
       "    <tr>\n",
       "      <th>0</th>\n",
       "      <td>1</td>\n",
       "      <td>I am a developer by profession</td>\n",
       "      <td>Under 18 years old</td>\n",
       "      <td>Employed, full-time</td>\n",
       "      <td>Remote</td>\n",
       "      <td>Apples</td>\n",
       "      <td>Hobby</td>\n",
       "      <td>Primary/elementary school</td>\n",
       "      <td>Books / Physical media</td>\n",
       "      <td>NaN</td>\n",
       "      <td>...</td>\n",
       "      <td>NaN</td>\n",
       "      <td>NaN</td>\n",
       "      <td>NaN</td>\n",
       "      <td>NaN</td>\n",
       "      <td>NaN</td>\n",
       "      <td>NaN</td>\n",
       "      <td>NaN</td>\n",
       "      <td>NaN</td>\n",
       "      <td>NaN</td>\n",
       "      <td>NaN</td>\n",
       "    </tr>\n",
       "    <tr>\n",
       "      <th>1</th>\n",
       "      <td>2</td>\n",
       "      <td>I am a developer by profession</td>\n",
       "      <td>35-44 years old</td>\n",
       "      <td>Employed, full-time</td>\n",
       "      <td>Remote</td>\n",
       "      <td>Apples</td>\n",
       "      <td>Hobby;Contribute to open-source projects;Other...</td>\n",
       "      <td>Bachelor’s degree (B.A., B.S., B.Eng., etc.)</td>\n",
       "      <td>Books / Physical media;Colleague;On the job tr...</td>\n",
       "      <td>Technical documentation;Blogs;Books;Written Tu...</td>\n",
       "      <td>...</td>\n",
       "      <td>0.0</td>\n",
       "      <td>0.0</td>\n",
       "      <td>0.0</td>\n",
       "      <td>0.0</td>\n",
       "      <td>0.0</td>\n",
       "      <td>0.0</td>\n",
       "      <td>NaN</td>\n",
       "      <td>NaN</td>\n",
       "      <td>NaN</td>\n",
       "      <td>NaN</td>\n",
       "    </tr>\n",
       "    <tr>\n",
       "      <th>2</th>\n",
       "      <td>3</td>\n",
       "      <td>I am a developer by profession</td>\n",
       "      <td>45-54 years old</td>\n",
       "      <td>Employed, full-time</td>\n",
       "      <td>Remote</td>\n",
       "      <td>Apples</td>\n",
       "      <td>Hobby;Contribute to open-source projects;Other...</td>\n",
       "      <td>Master’s degree (M.A., M.S., M.Eng., MBA, etc.)</td>\n",
       "      <td>Books / Physical media;Colleague;On the job tr...</td>\n",
       "      <td>Technical documentation;Blogs;Books;Written Tu...</td>\n",
       "      <td>...</td>\n",
       "      <td>NaN</td>\n",
       "      <td>NaN</td>\n",
       "      <td>NaN</td>\n",
       "      <td>NaN</td>\n",
       "      <td>NaN</td>\n",
       "      <td>NaN</td>\n",
       "      <td>Appropriate in length</td>\n",
       "      <td>Easy</td>\n",
       "      <td>NaN</td>\n",
       "      <td>NaN</td>\n",
       "    </tr>\n",
       "    <tr>\n",
       "      <th>3</th>\n",
       "      <td>4</td>\n",
       "      <td>I am learning to code</td>\n",
       "      <td>18-24 years old</td>\n",
       "      <td>Student, full-time</td>\n",
       "      <td>NaN</td>\n",
       "      <td>Apples</td>\n",
       "      <td>NaN</td>\n",
       "      <td>Some college/university study without earning ...</td>\n",
       "      <td>Other online resources (e.g., videos, blogs, f...</td>\n",
       "      <td>Stack Overflow;How-to videos;Interactive tutorial</td>\n",
       "      <td>...</td>\n",
       "      <td>NaN</td>\n",
       "      <td>NaN</td>\n",
       "      <td>NaN</td>\n",
       "      <td>NaN</td>\n",
       "      <td>NaN</td>\n",
       "      <td>NaN</td>\n",
       "      <td>Too long</td>\n",
       "      <td>Easy</td>\n",
       "      <td>NaN</td>\n",
       "      <td>NaN</td>\n",
       "    </tr>\n",
       "    <tr>\n",
       "      <th>4</th>\n",
       "      <td>5</td>\n",
       "      <td>I am a developer by profession</td>\n",
       "      <td>18-24 years old</td>\n",
       "      <td>Student, full-time</td>\n",
       "      <td>NaN</td>\n",
       "      <td>Apples</td>\n",
       "      <td>NaN</td>\n",
       "      <td>Secondary school (e.g. American high school, G...</td>\n",
       "      <td>Other online resources (e.g., videos, blogs, f...</td>\n",
       "      <td>Technical documentation;Blogs;Written Tutorial...</td>\n",
       "      <td>...</td>\n",
       "      <td>NaN</td>\n",
       "      <td>NaN</td>\n",
       "      <td>NaN</td>\n",
       "      <td>NaN</td>\n",
       "      <td>NaN</td>\n",
       "      <td>NaN</td>\n",
       "      <td>Too short</td>\n",
       "      <td>Easy</td>\n",
       "      <td>NaN</td>\n",
       "      <td>NaN</td>\n",
       "    </tr>\n",
       "  </tbody>\n",
       "</table>\n",
       "<p>5 rows × 114 columns</p>\n",
       "</div>"
      ],
      "text/plain": [
       "   ResponseId                      MainBranch                 Age  \\\n",
       "0           1  I am a developer by profession  Under 18 years old   \n",
       "1           2  I am a developer by profession     35-44 years old   \n",
       "2           3  I am a developer by profession     45-54 years old   \n",
       "3           4           I am learning to code     18-24 years old   \n",
       "4           5  I am a developer by profession     18-24 years old   \n",
       "\n",
       "            Employment RemoteWork   Check  \\\n",
       "0  Employed, full-time     Remote  Apples   \n",
       "1  Employed, full-time     Remote  Apples   \n",
       "2  Employed, full-time     Remote  Apples   \n",
       "3   Student, full-time        NaN  Apples   \n",
       "4   Student, full-time        NaN  Apples   \n",
       "\n",
       "                                    CodingActivities  \\\n",
       "0                                              Hobby   \n",
       "1  Hobby;Contribute to open-source projects;Other...   \n",
       "2  Hobby;Contribute to open-source projects;Other...   \n",
       "3                                                NaN   \n",
       "4                                                NaN   \n",
       "\n",
       "                                             EdLevel  \\\n",
       "0                          Primary/elementary school   \n",
       "1       Bachelor’s degree (B.A., B.S., B.Eng., etc.)   \n",
       "2    Master’s degree (M.A., M.S., M.Eng., MBA, etc.)   \n",
       "3  Some college/university study without earning ...   \n",
       "4  Secondary school (e.g. American high school, G...   \n",
       "\n",
       "                                           LearnCode  \\\n",
       "0                             Books / Physical media   \n",
       "1  Books / Physical media;Colleague;On the job tr...   \n",
       "2  Books / Physical media;Colleague;On the job tr...   \n",
       "3  Other online resources (e.g., videos, blogs, f...   \n",
       "4  Other online resources (e.g., videos, blogs, f...   \n",
       "\n",
       "                                     LearnCodeOnline  ... JobSatPoints_6  \\\n",
       "0                                                NaN  ...            NaN   \n",
       "1  Technical documentation;Blogs;Books;Written Tu...  ...            0.0   \n",
       "2  Technical documentation;Blogs;Books;Written Tu...  ...            NaN   \n",
       "3  Stack Overflow;How-to videos;Interactive tutorial  ...            NaN   \n",
       "4  Technical documentation;Blogs;Written Tutorial...  ...            NaN   \n",
       "\n",
       "  JobSatPoints_7 JobSatPoints_8 JobSatPoints_9 JobSatPoints_10  \\\n",
       "0            NaN            NaN            NaN             NaN   \n",
       "1            0.0            0.0            0.0             0.0   \n",
       "2            NaN            NaN            NaN             NaN   \n",
       "3            NaN            NaN            NaN             NaN   \n",
       "4            NaN            NaN            NaN             NaN   \n",
       "\n",
       "  JobSatPoints_11           SurveyLength SurveyEase ConvertedCompYearly JobSat  \n",
       "0             NaN                    NaN        NaN                 NaN    NaN  \n",
       "1             0.0                    NaN        NaN                 NaN    NaN  \n",
       "2             NaN  Appropriate in length       Easy                 NaN    NaN  \n",
       "3             NaN               Too long       Easy                 NaN    NaN  \n",
       "4             NaN              Too short       Easy                 NaN    NaN  \n",
       "\n",
       "[5 rows x 114 columns]"
      ]
     },
     "execution_count": 4,
     "metadata": {},
     "output_type": "execute_result"
    }
   ],
   "source": [
    "import pandas as pd\n",
    "df = pd.read_csv(\"survey_results_public.csv\")\n",
    "\n",
    "\n",
    "\n",
    "# Display the first 5 rows.\n",
    "df.head()\n"
   ]
  },
  {
   "cell_type": "markdown",
   "id": "4eab488f",
   "metadata": {},
   "source": [
    "#### Data Cleaning :"
   ]
  },
  {
   "cell_type": "code",
   "execution_count": 5,
   "id": "a88f37e5",
   "metadata": {},
   "outputs": [],
   "source": [
    "# Columns will be needed in the  analysis\n",
    "df = df.dropna(subset=[\"Country\", \"LanguageHaveWorkedWith\"])\n",
    "\n",
    "languagescountry = df[[\"Country\", \"LanguageHaveWorkedWith\"]].copy()\n",
    "languagescountry[\"LanguageHaveWorkedWith\"] = languagescountry[\"LanguageHaveWorkedWith\"].str.split(';')\n",
    "languagescountry = languagescountry.explode(\"LanguageHaveWorkedWith\")\n",
    "\n",
    "\n",
    "languagescountry[\"LanguageHaveWorkedWith\"] = languagescountry[\"LanguageHaveWorkedWith\"].str.strip()"
   ]
  },
  {
   "cell_type": "markdown",
   "id": "1089aef8",
   "metadata": {},
   "source": [
    "#### Best 10 programming languages"
   ]
  },
  {
   "cell_type": "code",
   "execution_count": 6,
   "id": "725b7e98",
   "metadata": {},
   "outputs": [
    {
     "data": {
      "text/plain": [
       "LanguageHaveWorkedWith\n",
       "JavaScript                 36225\n",
       "HTML/CSS                   30765\n",
       "SQL                        29781\n",
       "Python                     29727\n",
       "TypeScript                 22450\n",
       "Bash/Shell (all shells)    19959\n",
       "Java                       17559\n",
       "C#                         15830\n",
       "C++                        13345\n",
       "C                          11750\n",
       "Name: count, dtype: int64"
      ]
     },
     "execution_count": 6,
     "metadata": {},
     "output_type": "execute_result"
    }
   ],
   "source": [
    "languagescountry[\"LanguageHaveWorkedWith\"].value_counts().head(10)"
   ]
  },
  {
   "cell_type": "code",
   "execution_count": 9,
   "id": "f6c96af2",
   "metadata": {},
   "outputs": [],
   "source": [
    "languagesbycountry = (\n",
    "    languagescountry.groupby([\"Country\", \"LanguageHaveWorkedWith\"])\n",
    "    .size()\n",
    "    .reset_index(name=\"Count\")\n",
    "    .sort_values([\"Country\", \"Count\"], ascending=[True, False])\n",
    ")"
   ]
  },
  {
   "cell_type": "markdown",
   "id": "90bc205c",
   "metadata": {},
   "source": [
    "##### Visualization "
   ]
  },
  {
   "cell_type": "code",
   "execution_count": 16,
   "id": "467c93ec",
   "metadata": {},
   "outputs": [
    {
     "data": {
      "image/png": "[encoded data removed]",
      "text/plain": [
       "<Figure size 1000x600 with 1 Axes>"
      ]
     },
     "metadata": {},
     "output_type": "display_data"
    }
   ],
   "source": [
    "df = df.dropna(subset=[\"Country\", \"LanguageHaveWorkedWith\"])\n",
    "\n",
    "\n",
    "languagesbycountry = df[[\"Country\", \"LanguageHaveWorkedWith\"]].copy()\n",
    "languagesbycountry[\"LanguageHaveWorkedWith\"] = languagesbycountry[\"LanguageHaveWorkedWith\"].str.split(';')\n",
    "\n",
    "languagesbycountry = languagesbycountry.explode(\"LanguageHaveWorkedWith\")\n",
    "\n",
    "languagesbycountry[\"LanguageHaveWorkedWith\"] = languagesbycountry[\"LanguageHaveWorkedWith\"].str.strip()\n",
    "\n",
    "\n",
    "\n",
    "\n",
    "toplangs = languagesbycountry[\"LanguageHaveWorkedWith\"].value_counts().head(10)\n",
    "\n",
    "# The Visualization using matplotlib \"bar chart\"\n",
    "plt.figure(figsize=(10, 6))\n",
    "toplangs.plot(kind='bar')\n",
    "plt.title(\"Top 10 Programming Languages used by devs and programmers\")\n",
    "plt.xlabel(\"Programming languages\")\n",
    "plt.ylabel(\"Users\")\n",
    "plt.xticks(rotation=45)\n",
    "plt.tight_layout()\n",
    "plt.grid(axis='y')\n",
    "\n",
    "plt.show()\n"
   ]
  },
  {
   "cell_type": "markdown",
   "id": "8ae0a148",
   "metadata": {},
   "source": [
    "##### In visualization we notice the `Javascript`- `Python` is best **High level programming language** to learning in 2024 , and see a `SQL` a query language and `HTML/CSS` the markup languages for web development is very important."
   ]
  },
  {
   "cell_type": "markdown",
   "id": "946b4522",
   "metadata": {},
   "source": [
    "### Inside thing : Top databases for users"
   ]
  },
  {
   "cell_type": "code",
   "execution_count": null,
   "id": "31a97231",
   "metadata": {},
   "outputs": [
    {
     "name": "stderr",
     "output_type": "stream",
     "text": [
      "C:\\Users\\saad7\\AppData\\Local\\Temp\\ipykernel_22744\\816936419.py:4: SettingWithCopyWarning: \n",
      "A value is trying to be set on a copy of a slice from a DataFrame.\n",
      "Try using .loc[row_indexer,col_indexer] = value instead\n",
      "\n",
      "See the caveats in the documentation: https://pandas.pydata.org/pandas-docs/stable/user_guide/indexing.html#returning-a-view-versus-a-copy\n",
      "  databases[\"DatabaseHaveWorkedWith\"] = databases[\"DatabaseHaveWorkedWith\"].str.split(';')\n"
     ]
    },
    {
     "data": {
      "text/plain": [
       "DatabaseHaveWorkedWith\n",
       "PostgreSQL              24794\n",
       "MySQL                   20277\n",
       "SQLite                  16872\n",
       "Microsoft SQL Server    12901\n",
       "MongoDB                 12500\n",
       "Redis                   10193\n",
       "MariaDB                  8734\n",
       "Elasticsearch            6371\n",
       "Oracle                   5057\n",
       "Dynamodb                 4014\n",
       "Name: count, dtype: int64"
      ]
     },
     "execution_count": 17,
     "metadata": {},
     "output_type": "execute_result"
    }
   ],
   "source": [
    "databases = df.dropna(subset=[\"DatabaseHaveWorkedWith\"])\n",
    "\n",
    "databases[\"DatabaseHaveWorkedWith\"] = databases[\"DatabaseHaveWorkedWith\"].str.split(';')\n",
    "databases = databases.explode(\"DatabaseHaveWorkedWith\")\n",
    "databases[\"DatabaseHaveWorkedWith\"] = databases[\"DatabaseHaveWorkedWith\"].str.strip()\n",
    "\n",
    "top_databases = databases[\"DatabaseHaveWorkedWith\"].value_counts().head(10)\n",
    "top_databases\n",
    "\n"
   ]
  },
  {
   "cell_type": "markdown",
   "id": "9251c896",
   "metadata": {},
   "source": [
    "##### Visualization :"
   ]
  },
  {
   "cell_type": "code",
   "execution_count": 18,
   "id": "4c233733",
   "metadata": {},
   "outputs": [
    {
     "data": {
      "image/png": "[encoded data removed]",
      "text/plain": [
       "<Figure size 640x480 with 1 Axes>"
      ]
     },
     "metadata": {},
     "output_type": "display_data"
    }
   ],
   "source": [
    "top_databases.plot(kind='bar')\n",
    "plt.title(\"Top 10 Databases used by devs and programmers\")\n",
    "plt.xlabel(\"Databases\")\n",
    "plt.ylabel(\"Users\")\n",
    "plt.xticks(rotation=45)\n",
    "plt.tight_layout()\n",
    "plt.grid(axis='y')\n",
    "\n",
    "\n",
    "\n",
    "plt.show()"
   ]
  },
  {
   "cell_type": "markdown",
   "id": "a8d82534",
   "metadata": {},
   "source": [
    "##### In visualization we notice the `PostgreSQL` and `MySQL` is best RDBMS using by users."
   ]
  },
  {
   "cell_type": "markdown",
   "id": "fea1ada5",
   "metadata": {},
   "source": [
    "### Inside thing : Developers jobs"
   ]
  },
  {
   "cell_type": "code",
   "execution_count": 21,
   "id": "61b09a93",
   "metadata": {},
   "outputs": [
    {
     "name": "stderr",
     "output_type": "stream",
     "text": [
      "C:\\Users\\saad7\\AppData\\Local\\Temp\\ipykernel_22744\\3165215876.py:3: SettingWithCopyWarning: \n",
      "A value is trying to be set on a copy of a slice from a DataFrame.\n",
      "Try using .loc[row_indexer,col_indexer] = value instead\n",
      "\n",
      "See the caveats in the documentation: https://pandas.pydata.org/pandas-docs/stable/user_guide/indexing.html#returning-a-view-versus-a-copy\n",
      "  dev[\"DevType\"] = dev[\"DevType\"].str.split(';')\n"
     ]
    },
    {
     "data": {
      "text/plain": [
       "DevType\n",
       "Developer, full-stack                            17667\n",
       "Developer, back-end                               9576\n",
       "Student                                           4894\n",
       "Developer, front-end                              3197\n",
       "Developer, desktop or enterprise applications     2408\n",
       "Other (please specify):                           2309\n",
       "Developer, mobile                                 1935\n",
       "Developer, embedded applications or devices       1580\n",
       "Engineering manager                               1238\n",
       "Academic researcher                               1178\n",
       "Data engineer                                     1083\n",
       "DevOps specialist                                  987\n",
       "Data scientist or machine learning specialist      983\n",
       "Research & Development role                        899\n",
       "Senior Executive (C-Suite, VP, etc.)               810\n",
       "Name: count, dtype: int64"
      ]
     },
     "execution_count": 21,
     "metadata": {},
     "output_type": "execute_result"
    }
   ],
   "source": [
    "# Simple cleaning for data\n",
    "dev = df.dropna(subset=[\"DevType\"])\n",
    "dev[\"DevType\"] = dev[\"DevType\"].str.split(';')\n",
    "dev = dev.explode(\"DevType\")\n",
    "dev[\"DevType\"] = dev[\"DevType\"].str.strip()\n",
    "\n",
    "\n",
    "\n",
    "# show the top 15 devs types\n",
    "top_dev_types = dev[\"DevType\"].value_counts().head(15)\n",
    "top_dev_types"
   ]
  },
  {
   "cell_type": "markdown",
   "id": "de11ffc4",
   "metadata": {},
   "source": [
    "##### Devs in 2024 very interested in `web developement` :\n",
    "1. Full stack (including front end - back end)\n",
    "2. Back end developers\n",
    "\n",
    "others fields is :\n",
    "1. Desktop Development (Windows-Linux-Mac OS)\n",
    "2. Mobile Development (Webapps - Android - iOS)\n",
    "\n",
    "And also we noticed the `devops` and `data engineering/science` have a good place in a list. "
   ]
  },
  {
   "cell_type": "markdown",
   "id": "d3ee9121",
   "metadata": {},
   "source": [
    "### Credits :\n",
    "\n",
    "`0xSaad / Saad Almalki`\n",
    "- [X](https://x.com/0xdonzdev)\n",
    "- [Github](https://github.com/Saad711T)\n",
    "- [LinkedIn](https://www.linkedin.com/in/saadalmalki711)\n",
    "\n",
    "For see Stackoverflow 2017 Developers survey analysis , [Click here](https://github.com/Saad711T/Udacity-IntroductionToDataScience)."
   ]
  }
 ],
 "metadata": {
  "kernelspec": {
   "display_name": "Python 3",
   "language": "python",
   "name": "python3"
  },
  "language_info": {
   "codemirror_mode": {
    "name": "ipython",
    "version": 3
   },
   "file_extension": ".py",
   "mimetype": "text/x-python",
   "name": "python",
   "nbconvert_exporter": "python",
   "pygments_lexer": "ipython3",
   "version": "3.13.2"
  }
 },
 "nbformat": 4,
 "nbformat_minor": 5
}
